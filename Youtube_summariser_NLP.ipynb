{
  "nbformat": 4,
  "nbformat_minor": 0,
  "metadata": {
    "colab": {
      "provenance": [],
      "authorship_tag": "ABX9TyPvuNLeU/hkzHjkCUuy5KU7",
      "include_colab_link": true
    },
    "kernelspec": {
      "name": "python3",
      "display_name": "Python 3"
    },
    "language_info": {
      "name": "python"
    }
  },
  "cells": [
    {
      "cell_type": "markdown",
      "metadata": {
        "id": "view-in-github",
        "colab_type": "text"
      },
      "source": [
        "<a href=\"https://colab.research.google.com/github/DhanushKarthikeyaAJ/Youtube_Summariser/blob/main/Youtube_summariser_NLP.ipynb\" target=\"_parent\"><img src=\"https://colab.research.google.com/assets/colab-badge.svg\" alt=\"Open In Colab\"/></a>"
      ]
    },
    {
      "cell_type": "markdown",
      "source": [
        "\n",
        "**NLP (Natural Language Processing)** is rapidly advancing and finding applications everywhere, from spam filters to medical chatbots. One popular use case is text summarization, which can save time by providing a quick overview of content.\n",
        "\n",
        "Imagine getting a brief summary of a lengthy YouTube tutorial or video before watching it—this would give you a quick understanding and save time. This project, a *YouTube Summarizer*, aims to do just that by summarizing the content (subtitles) of YouTube videos. Often, only 50-60% of a video's length contains the main content, so our summarizer will capture the key points to make the information concise and easy to understand.\n",
        "\n",
        "Summarization in NLP involves creating a short version of a large text while retaining essential information.\n",
        "\n",
        "\n",
        "---\n",
        "\n",
        "\n",
        "\n",
        "There are two types: **extractive**, which pulls key sentences from the text, and **abstractive**, which generates a summary in its own words. For our YouTube Summarizer, we use extractive summarization techniques, such as **BART** (Bidirectional and Auto-Regressive Transformer) and **TFIDF Vectorizer**(term frequency-inverse document frequency), to efficiently capture important details from the video content. This tool can be especially useful for summarizing lecture videos."
      ],
      "metadata": {
        "id": "KVeKyqTTC0GV"
      }
    },
    {
      "cell_type": "code",
      "source": [
        "!pip install youtube_transcript_api"
      ],
      "metadata": {
        "colab": {
          "base_uri": "https://localhost:8080/"
        },
        "id": "Ri7CHGAC99fX",
        "outputId": "6553133d-24ce-44e9-c5bb-6812fba512d4"
      },
      "execution_count": 2,
      "outputs": [
        {
          "output_type": "stream",
          "name": "stdout",
          "text": [
            "Collecting youtube_transcript_api\n",
            "  Downloading youtube_transcript_api-0.6.2-py3-none-any.whl.metadata (15 kB)\n",
            "Requirement already satisfied: requests in /usr/local/lib/python3.10/dist-packages (from youtube_transcript_api) (2.32.3)\n",
            "Requirement already satisfied: charset-normalizer<4,>=2 in /usr/local/lib/python3.10/dist-packages (from requests->youtube_transcript_api) (3.3.2)\n",
            "Requirement already satisfied: idna<4,>=2.5 in /usr/local/lib/python3.10/dist-packages (from requests->youtube_transcript_api) (3.8)\n",
            "Requirement already satisfied: urllib3<3,>=1.21.1 in /usr/local/lib/python3.10/dist-packages (from requests->youtube_transcript_api) (2.0.7)\n",
            "Requirement already satisfied: certifi>=2017.4.17 in /usr/local/lib/python3.10/dist-packages (from requests->youtube_transcript_api) (2024.7.4)\n",
            "Downloading youtube_transcript_api-0.6.2-py3-none-any.whl (24 kB)\n",
            "Installing collected packages: youtube_transcript_api\n",
            "Successfully installed youtube_transcript_api-0.6.2\n"
          ]
        }
      ]
    },
    {
      "cell_type": "code",
      "source": [
        "import youtube_transcript_api\n",
        "from youtube_transcript_api import YouTubeTranscriptApi\n",
        "import nltk\n",
        "import re\n",
        "from nltk.corpus import stopwords\n",
        "import sklearn\n",
        "from sklearn.feature_extraction.text import TfidfVectorizer"
      ],
      "metadata": {
        "id": "nZS3LyPo-JYX"
      },
      "execution_count": 3,
      "outputs": []
    },
    {
      "cell_type": "code",
      "source": [
        "link = \"https://www.youtube.com/watch?v=I4EWvMFj37g\"\n",
        "unique_id = link.split(\"=\")[-1]\n",
        "sub = YouTubeTranscriptApi.get_transcript(unique_id)\n",
        "subtitle = \" \".join([x['text'] for x in sub])"
      ],
      "metadata": {
        "id": "7BHxk8dz-xRW"
      },
      "execution_count": 4,
      "outputs": []
    },
    {
      "cell_type": "code",
      "source": [
        "!pip install nltk\n",
        "import nltk\n",
        "nltk.download('punkt')\n",
        "\n",
        "from nltk.tokenize import sent_tokenize"
      ],
      "metadata": {
        "colab": {
          "base_uri": "https://localhost:8080/"
        },
        "id": "u5XQYy_O_23k",
        "outputId": "b4f60143-46cb-4af9-a6bc-7aa1b5ff5a6d"
      },
      "execution_count": 11,
      "outputs": [
        {
          "output_type": "stream",
          "name": "stdout",
          "text": [
            "Requirement already satisfied: nltk in /usr/local/lib/python3.10/dist-packages (3.8.1)\n",
            "Requirement already satisfied: click in /usr/local/lib/python3.10/dist-packages (from nltk) (8.1.7)\n",
            "Requirement already satisfied: joblib in /usr/local/lib/python3.10/dist-packages (from nltk) (1.4.2)\n",
            "Requirement already satisfied: regex>=2021.8.3 in /usr/local/lib/python3.10/dist-packages (from nltk) (2024.5.15)\n",
            "Requirement already satisfied: tqdm in /usr/local/lib/python3.10/dist-packages (from nltk) (4.66.5)\n"
          ]
        },
        {
          "output_type": "stream",
          "name": "stderr",
          "text": [
            "[nltk_data] Downloading package punkt to /root/nltk_data...\n",
            "[nltk_data]   Package punkt is already up-to-date!\n"
          ]
        }
      ]
    },
    {
      "cell_type": "code",
      "source": [
        "subtitle = subtitle.replace(\"n\",\"\")\n",
        "sentences = sent_tokenize(subtitle)"
      ],
      "metadata": {
        "id": "9kwxC-BcABLn"
      },
      "execution_count": 12,
      "outputs": []
    },
    {
      "cell_type": "code",
      "source": [
        "subtitle"
      ],
      "metadata": {
        "colab": {
          "base_uri": "https://localhost:8080/",
          "height": 261
        },
        "id": "cT53Zv2WDw74",
        "outputId": "42c7b4ce-fd6a-46ab-bf8f-f1bb889d4d66"
      },
      "execution_count": 25,
      "outputs": [
        {
          "output_type": "execute_result",
          "data": {
            "text/plain": [
              "\"bash a commad laguage iterpreter for iteractig with a computer from the commad lie it's also called a shell because it surrouds the operatig system kerel to hide its itricate details while allowig you the programmer to do importat stuff like access data ad write files by typig simple commads this was a revolutioary cocept whe it was developed i the early 70s back whe programmers were still usig puch cards the shell cocept evolved over the years with the boure shell beig the most popular versio that is util 1989 whe the bor-agai shell or bash came about whe you ope up the termial o a uix machie like mac os ad most liux distros the default shell is usually bash it provides a prompt where you ca type a commad which will the be iterpreted by the shell ad executed o the operatig system to fid out if you're ruig bash type i which dollar sig shell from the commad lie it's like ay other applicatio that lives i the biaries directory but bash is also a programmig laguage that allows us to write scripts which meas aythig we type maually ito the commad lie ca be automated with code whe you first lauch the shell it actually rus a startup script that's defied i the bash profile or bashrc file o your system this allows you to customize the behavior ad appearace of the shell wheever you start a ew sessio you ca add your ow custom bash scripts to ay project by creatig a file that eds i dot sh for o file extesio at all the first lie i that file should always be a shebag followed by the path to the applicatio that should ru it below that we ca start writig commads like echo to prit somethig ad they'll be iterpreted lie by lie to create a variable type a ame i all caps followed by the equal sig the referece it later i the script usig a dollar sig i frot of the ame ow to execute the script simply type the file ame ito the shell that was easy but what if we wat to pass i some argumets whe we ru the script positioal argumets will automatically be assiged variable ames of 1 2 3 ad so o ow i other cases you may eed additioal user iput i the middle of a script you ca create loops i bash like a do while loop here that will prompt the user to cotiue the script o a yes aswer or exit o a o aswer from there we ca implemet coditioal logic with a if statemet which will test if the value o the left side is less tha the value o the right side if true the ru this commad otherwise ru the else commad aother cool feature is that if you have multiple log ruig processes you ca ru them i parallel i the backgroud by addig a ampersad after the commad this has bee bash the bor-agai shell i 100 secods if you wat to see more short videos like this make sure to hit the like butto ad subscribe thaks for watchig ad i will see you i the ext oe\""
            ],
            "application/vnd.google.colaboratory.intrinsic+json": {
              "type": "string"
            }
          },
          "metadata": {},
          "execution_count": 25
        }
      ]
    },
    {
      "cell_type": "code",
      "source": [
        "organized_sent = {k:v for v,k in enumerate(sentences)}"
      ],
      "metadata": {
        "id": "6Jj3TZV7AKfR"
      },
      "execution_count": 13,
      "outputs": []
    },
    {
      "cell_type": "code",
      "source": [
        "tf_idf = TfidfVectorizer(min_df=1,\n",
        "                                    strip_accents='unicode',\n",
        "                                    max_features=None,\n",
        "                                    lowercase = True,\n",
        "                                    token_pattern=r'w{1,}',\n",
        "                                    ngram_range=(1, 3),\n",
        "                                    use_idf=1,\n",
        "                                    smooth_idf=1,\n",
        "                                    sublinear_tf=1,\n",
        "                                    stop_words = 'english')"
      ],
      "metadata": {
        "id": "kvPcLqS2AO4W"
      },
      "execution_count": 16,
      "outputs": []
    },
    {
      "cell_type": "code",
      "source": [
        "import numpy as np\n",
        "sentence_vectors = tf_idf.fit_transform(sentences)\n",
        "sent_scores = np.array(sentence_vectors.sum(axis=1)).ravel()"
      ],
      "metadata": {
        "colab": {
          "base_uri": "https://localhost:8080/"
        },
        "id": "eVBGV4XIATEF",
        "outputId": "a394e85f-56ca-4b0c-e534-2388b17d31f9"
      },
      "execution_count": 18,
      "outputs": [
        {
          "output_type": "stream",
          "name": "stderr",
          "text": [
            "/usr/local/lib/python3.10/dist-packages/sklearn/utils/_param_validation.py:594: FutureWarning: Passing an int for a boolean parameter is deprecated in version 1.2 and won't be supported anymore in version 1.4.\n",
            "  warnings.warn(\n"
          ]
        }
      ]
    },
    {
      "cell_type": "code",
      "source": [
        "N = 3\n",
        "top_n_sentences = [sentences[index] for index in np.argsort(sent_scores, axis=0)[::-1][:N]]"
      ],
      "metadata": {
        "id": "GeC336A1BBYl"
      },
      "execution_count": 19,
      "outputs": []
    },
    {
      "cell_type": "code",
      "source": [
        "# mapping the scored sentences with their indexes as in the subtitle\n",
        "mapped_sentences = [(sentence,organized_sent[sentence]) for sentence in top_n_sentences]\n",
        "# Ordering the top-n sentences in their original order\n",
        "mapped_sentences = sorted(mapped_sentences, key = lambda x: x[1])\n",
        "ordered_sentences = [element[0] for element in mapped_sentences]\n",
        "# joining the ordered sentence\n",
        "summary = \" \".join(ordered_sentences)"
      ],
      "metadata": {
        "id": "xUXoBF79BFkd"
      },
      "execution_count": 20,
      "outputs": []
    },
    {
      "cell_type": "code",
      "source": [
        "summary"
      ],
      "metadata": {
        "colab": {
          "base_uri": "https://localhost:8080/",
          "height": 261
        },
        "id": "BdiSzMC8EDRd",
        "outputId": "7f7af147-6484-406f-851a-9316f4ced3a8"
      },
      "execution_count": 26,
      "outputs": [
        {
          "output_type": "execute_result",
          "data": {
            "text/plain": [
              "\"bash a commad laguage iterpreter for iteractig with a computer from the commad lie it's also called a shell because it surrouds the operatig system kerel to hide its itricate details while allowig you the programmer to do importat stuff like access data ad write files by typig simple commads this was a revolutioary cocept whe it was developed i the early 70s back whe programmers were still usig puch cards the shell cocept evolved over the years with the boure shell beig the most popular versio that is util 1989 whe the bor-agai shell or bash came about whe you ope up the termial o a uix machie like mac os ad most liux distros the default shell is usually bash it provides a prompt where you ca type a commad which will the be iterpreted by the shell ad executed o the operatig system to fid out if you're ruig bash type i which dollar sig shell from the commad lie it's like ay other applicatio that lives i the biaries directory but bash is also a programmig laguage that allows us to write scripts which meas aythig we type maually ito the commad lie ca be automated with code whe you first lauch the shell it actually rus a startup script that's defied i the bash profile or bashrc file o your system this allows you to customize the behavior ad appearace of the shell wheever you start a ew sessio you ca add your ow custom bash scripts to ay project by creatig a file that eds i dot sh for o file extesio at all the first lie i that file should always be a shebag followed by the path to the applicatio that should ru it below that we ca start writig commads like echo to prit somethig ad they'll be iterpreted lie by lie to create a variable type a ame i all caps followed by the equal sig the referece it later i the script usig a dollar sig i frot of the ame ow to execute the script simply type the file ame ito the shell that was easy but what if we wat to pass i some argumets whe we ru the script positioal argumets will automatically be assiged variable ames of 1 2 3 ad so o ow i other cases you may eed additioal user iput i the middle of a script you ca create loops i bash like a do while loop here that will prompt the user to cotiue the script o a yes aswer or exit o a o aswer from there we ca implemet coditioal logic with a if statemet which will test if the value o the left side is less tha the value o the right side if true the ru this commad otherwise ru the else commad aother cool feature is that if you have multiple log ruig processes you ca ru them i parallel i the backgroud by addig a ampersad after the commad this has bee bash the bor-agai shell i 100 secods if you wat to see more short videos like this make sure to hit the like butto ad subscribe thaks for watchig ad i will see you i the ext oe\""
            ],
            "application/vnd.google.colaboratory.intrinsic+json": {
              "type": "string"
            }
          },
          "metadata": {},
          "execution_count": 26
        }
      ]
    },
    {
      "cell_type": "code",
      "source": [
        "#output summarization using the Bart Summarization model.\n",
        "!pip install transformers\n",
        "import transformers\n",
        "from transformers import BartTokenizer, BartForConditionalGeneration\n",
        "tokenizer = BartTokenizer.from_pretrained('facebook/bart-large-cnn')\n",
        "model = BartForConditionalGeneration.from_pretrained('facebook/bart-large-cnn')\n",
        "input_tensor = tokenizer.encode( subtitle, return_tensors=\"pt\", max_length=512)\n",
        "outputs_tensor = model.generate(input_tensor, max_length=160, min_length=120, length_penalty=2.0, num_beams=4, early_stopping=True)\n",
        "outputs_tensor"
      ],
      "metadata": {
        "colab": {
          "base_uri": "https://localhost:8080/"
        },
        "id": "h9R202r7BMAp",
        "outputId": "7eac4b99-7966-481c-d8eb-b43e07257e00"
      },
      "execution_count": 28,
      "outputs": [
        {
          "output_type": "stream",
          "name": "stdout",
          "text": [
            "Requirement already satisfied: transformers in /usr/local/lib/python3.10/dist-packages (4.42.4)\n",
            "Requirement already satisfied: filelock in /usr/local/lib/python3.10/dist-packages (from transformers) (3.15.4)\n",
            "Requirement already satisfied: huggingface-hub<1.0,>=0.23.2 in /usr/local/lib/python3.10/dist-packages (from transformers) (0.23.5)\n",
            "Requirement already satisfied: numpy<2.0,>=1.17 in /usr/local/lib/python3.10/dist-packages (from transformers) (1.26.4)\n",
            "Requirement already satisfied: packaging>=20.0 in /usr/local/lib/python3.10/dist-packages (from transformers) (24.1)\n",
            "Requirement already satisfied: pyyaml>=5.1 in /usr/local/lib/python3.10/dist-packages (from transformers) (6.0.2)\n",
            "Requirement already satisfied: regex!=2019.12.17 in /usr/local/lib/python3.10/dist-packages (from transformers) (2024.5.15)\n",
            "Requirement already satisfied: requests in /usr/local/lib/python3.10/dist-packages (from transformers) (2.32.3)\n",
            "Requirement already satisfied: safetensors>=0.4.1 in /usr/local/lib/python3.10/dist-packages (from transformers) (0.4.4)\n",
            "Requirement already satisfied: tokenizers<0.20,>=0.19 in /usr/local/lib/python3.10/dist-packages (from transformers) (0.19.1)\n",
            "Requirement already satisfied: tqdm>=4.27 in /usr/local/lib/python3.10/dist-packages (from transformers) (4.66.5)\n",
            "Requirement already satisfied: fsspec>=2023.5.0 in /usr/local/lib/python3.10/dist-packages (from huggingface-hub<1.0,>=0.23.2->transformers) (2024.6.1)\n",
            "Requirement already satisfied: typing-extensions>=3.7.4.3 in /usr/local/lib/python3.10/dist-packages (from huggingface-hub<1.0,>=0.23.2->transformers) (4.12.2)\n",
            "Requirement already satisfied: charset-normalizer<4,>=2 in /usr/local/lib/python3.10/dist-packages (from requests->transformers) (3.3.2)\n",
            "Requirement already satisfied: idna<4,>=2.5 in /usr/local/lib/python3.10/dist-packages (from requests->transformers) (3.8)\n",
            "Requirement already satisfied: urllib3<3,>=1.21.1 in /usr/local/lib/python3.10/dist-packages (from requests->transformers) (2.0.7)\n",
            "Requirement already satisfied: certifi>=2017.4.17 in /usr/local/lib/python3.10/dist-packages (from requests->transformers) (2024.7.4)\n"
          ]
        },
        {
          "output_type": "stream",
          "name": "stderr",
          "text": [
            "Truncation was not explicitly activated but `max_length` is provided a specific value, please use `truncation=True` to explicitly truncate examples to max length. Defaulting to 'longest_first' truncation strategy. If you encode pairs of sequences (GLUE-style) with the tokenizer you can select this strategy more precisely by providing a specific strategy to `truncation`.\n"
          ]
        },
        {
          "output_type": "execute_result",
          "data": {
            "text/plain": [
              "tensor([[    2,     0, 44551,    10,  7034,   625,   784, 11993,  1580, 41393,\n",
              "          5234,  1334,    13, 41393,  7257,  1023,    19,    10,  3034,    31,\n",
              "             5,  7034,   625,  6105,    24,    18,    67,   373,    10, 10785,\n",
              "           142,    24,  8113, 22552,    29,     5, 19470,   415,  1023,   467,\n",
              "          7321,  5982,     7,  7433,    63,    24,  4063,   877,  1254,   150,\n",
              "          1157,  1023,    47,     5, 38988,     7,   109,  6595,   415,  2682,\n",
              "           101,   899,   414,     4,    20,  6814, 10785,    16,  2333, 12882,\n",
              "            24,  1639,    10, 14302,   147,    47,  6056,  1907,    10,  7034,\n",
              "          7842,    61,    40,     5,    28, 41393, 42354,   196,    30,     5,\n",
              "         10785,  2329,  9390,  1021,     5, 19470,    23,  1023,   467,     4,\n",
              "            20, 10785,  1029, 16771, 12236,    81,     5,   107,    19,     5,\n",
              "         20437,   241, 10785,    28,  1023,     5,   144,  1406, 19431,  1020,\n",
              "            14,    16, 14258, 10206,     4,     2]])"
            ]
          },
          "metadata": {},
          "execution_count": 28
        }
      ]
    },
    {
      "cell_type": "code",
      "source": [
        "print(tokenizer.decode(outputs_tensor[0])) #summary"
      ],
      "metadata": {
        "colab": {
          "base_uri": "https://localhost:8080/"
        },
        "id": "ueDOIJsIBvRp",
        "outputId": "eaf0690b-5b4e-46f1-fa2b-5cca5116cee8"
      },
      "execution_count": 30,
      "outputs": [
        {
          "output_type": "stream",
          "name": "stdout",
          "text": [
            "</s><s>bash a commad laguage iterpreter for iteractig with a computer from the commad lie it's also called a shell because it surrouds the operatig system kerel to hide its itricate details while allowig you the programmer to do importat stuff like access data. The default shell is usually bash it provides a prompt where you ca type a commads which will the be iterpreted by the shell ad executed o the oper atig system. The shell cocept evolved over the years with the boure shell beig the most popular versio that is util 1989.</s>\n"
          ]
        }
      ]
    },
    {
      "cell_type": "markdown",
      "source": [
        "\n",
        "\n",
        "---\n",
        "\n"
      ],
      "metadata": {
        "id": "DHtXIK1LFk1K"
      }
    },
    {
      "cell_type": "code",
      "source": [
        "#summarization using transformers’ summarization pipeline\n",
        "from transformers import pipeline\n",
        "summarizer = pipeline('summarization')\n",
        "summary = summarizer(subtitle, max_length = 180, min_length =  30)\n",
        "summary"
      ],
      "metadata": {
        "colab": {
          "base_uri": "https://localhost:8080/"
        },
        "id": "XxW3TYDAFmIq",
        "outputId": "4c911390-b75e-4eff-fdc6-bf8c03856ad2"
      },
      "execution_count": 32,
      "outputs": [
        {
          "output_type": "stream",
          "name": "stderr",
          "text": [
            "No model was supplied, defaulted to sshleifer/distilbart-cnn-12-6 and revision a4f8f3e (https://huggingface.co/sshleifer/distilbart-cnn-12-6).\n",
            "Using a pipeline without specifying a model name and revision in production is not recommended.\n"
          ]
        },
        {
          "output_type": "execute_result",
          "data": {
            "text/plain": [
              "[{'summary_text': \" Bash a commad laguage iterpreter for iteractig with a computer from the commad lie it's also called a shell because it surrouds the operatig system kerel to hide its details while allowig you the programmer to do importat stuff like access data ad write files by typig simple commads . The default shell is usually bash it provides a prompt where you ca type a . commad which will the be iterpreted by the shell ad executed o the operating system . The shell cocept evolved over the years with the boure shell being the most popular versio that is util 1989 .\"}]"
            ]
          },
          "metadata": {},
          "execution_count": 32
        }
      ]
    },
    {
      "cell_type": "markdown",
      "source": [
        "This is a basic implementation of a summarization model using transformers. In addition to BART, other models like** DistilBART, BERT, and GPT-2** can also provide accurate summaries.\n",
        "\n",
        "The YouTube summarizer aims to deliver a concise summary of video content, which is particularly helpful for *videos with subtitles*. This tool can significantly save time by offering a quick overview of key points before watching the full video. I hope you find this **mini NLP project** interesting and useful!"
      ],
      "metadata": {
        "id": "6N_XRtq8GUeU"
      }
    }
  ]
}